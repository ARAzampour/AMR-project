{
 "cells": [
  {
   "cell_type": "code",
   "execution_count": 3,
   "id": "fb4328a2-c296-490b-b6b8-45f7e94cfa7d",
   "metadata": {},
   "outputs": [],
   "source": [
    "import pandas as pd\n",
    "import numpy as np\n",
    "import ast \n",
    "import json\n",
    "import requests\n",
    "from datetime import datetime\n",
    "from datetime import date\n",
    "import os\n",
    "import sys"
   ]
  },
  {
   "cell_type": "code",
   "execution_count": 49,
   "id": "db4c2db4-d1a1-49fd-a482-0a6cb21236c4",
   "metadata": {},
   "outputs": [
    {
     "name": "stdout",
     "output_type": "stream",
     "text": [
      "Status code: 200\n",
      "Field Mappings: [{\"label\":\"State\",\"value\":\"stateCode\"},{\"label\":\"Facility Name\",\"value\":\"facilityName\"},{\"label\":\"Facility ID\",\"value\":\"facilityId\"},{\"label\":\"Unit ID\",\"value\":\"unitId\"},{\"label\":\"Associated Stacks\",\"value\":\"associatedStacks\"},{\"label\":\"Date\",\"value\":\"date\"},{\"label\":\"Hour\",\"value\":\"hour\"},{\"label\":\"Operating Time\",\"value\":\"opTime\"},{\"label\":\"Gross Load (MW)\",\"value\":\"grossLoad\"},{\"label\":\"Steam Load (1000 lb/hr)\",\"value\":\"steamLoad\"},{\"label\":\"SO2 Mass (lbs)\",\"value\":\"so2Mass\"},{\"label\":\"SO2 Mass Measure Indicator\",\"value\":\"so2MassMeasureFlg\"},{\"label\":\"SO2 Rate (lbs/mmBtu)\",\"value\":\"so2Rate\"},{\"label\":\"SO2 Rate Measure Indicator\",\"value\":\"so2RateMeasureFlg\"},{\"label\":\"CO2 Mass (short tons)\",\"value\":\"co2Mass\"},{\"label\":\"CO2 Mass Measure Indicator\",\"value\":\"co2MassMeasureFlg\"},{\"label\":\"CO2 Rate (short tons/mmBtu)\",\"value\":\"co2Rate\"},{\"label\":\"CO2 Rate Measure Indicator\",\"value\":\"co2RateMeasureFlg\"},{\"label\":\"NOx Mass (lbs)\",\"value\":\"noxMass\"},{\"label\":\"NOx Mass Measure Indicator\",\"value\":\"noxMassMeasureFlg\"},{\"label\":\"NOx Rate (lbs/mmBtu)\",\"value\":\"noxRate\"},{\"label\":\"NOx Rate Measure Indicator\",\"value\":\"noxRateMeasureFlg\"},{\"label\":\"Heat Input (mmBtu)\",\"value\":\"heatInput\"},{\"label\":\"Heat Input Measure Indicator\",\"value\":\"heatInputMeasureFlg\"},{\"label\":\"Primary Fuel Type\",\"value\":\"primaryFuelInfo\"},{\"label\":\"Secondary Fuel Type\",\"value\":\"secondaryFuelInfo\"},{\"label\":\"Unit Type\",\"value\":\"unitType\"},{\"label\":\"SO2 Controls\",\"value\":\"so2ControlInfo\"},{\"label\":\"NOx Controls\",\"value\":\"noxControlInfo\"},{\"label\":\"PM Controls\",\"value\":\"pmControlInfo\"},{\"label\":\"Hg Controls\",\"value\":\"hgControlInfo\"},{\"label\":\"Program Code\",\"value\":\"programCodeInfo\"}]\n",
      "Status code: 200\n",
      "Field Mappings: [{\"label\":\"State\",\"value\":\"stateCode\"},{\"label\":\"Facility Name\",\"value\":\"facilityName\"},{\"label\":\"Facility ID\",\"value\":\"facilityId\"},{\"label\":\"Unit ID\",\"value\":\"unitId\"},{\"label\":\"Associated Stacks\",\"value\":\"associatedStacks\"},{\"label\":\"Date\",\"value\":\"date\"},{\"label\":\"Hour\",\"value\":\"hour\"},{\"label\":\"Operating Time\",\"value\":\"opTime\"},{\"label\":\"Gross Load (MW)\",\"value\":\"grossLoad\"},{\"label\":\"Steam Load (1000 lb/hr)\",\"value\":\"steamLoad\"},{\"label\":\"SO2 Mass (lbs)\",\"value\":\"so2Mass\"},{\"label\":\"SO2 Mass Measure Indicator\",\"value\":\"so2MassMeasureFlg\"},{\"label\":\"SO2 Rate (lbs/mmBtu)\",\"value\":\"so2Rate\"},{\"label\":\"SO2 Rate Measure Indicator\",\"value\":\"so2RateMeasureFlg\"},{\"label\":\"CO2 Mass (short tons)\",\"value\":\"co2Mass\"},{\"label\":\"CO2 Mass Measure Indicator\",\"value\":\"co2MassMeasureFlg\"},{\"label\":\"CO2 Rate (short tons/mmBtu)\",\"value\":\"co2Rate\"},{\"label\":\"CO2 Rate Measure Indicator\",\"value\":\"co2RateMeasureFlg\"},{\"label\":\"NOx Mass (lbs)\",\"value\":\"noxMass\"},{\"label\":\"NOx Mass Measure Indicator\",\"value\":\"noxMassMeasureFlg\"},{\"label\":\"NOx Rate (lbs/mmBtu)\",\"value\":\"noxRate\"},{\"label\":\"NOx Rate Measure Indicator\",\"value\":\"noxRateMeasureFlg\"},{\"label\":\"Heat Input (mmBtu)\",\"value\":\"heatInput\"},{\"label\":\"Heat Input Measure Indicator\",\"value\":\"heatInputMeasureFlg\"},{\"label\":\"Primary Fuel Type\",\"value\":\"primaryFuelInfo\"},{\"label\":\"Secondary Fuel Type\",\"value\":\"secondaryFuelInfo\"},{\"label\":\"Unit Type\",\"value\":\"unitType\"},{\"label\":\"SO2 Controls\",\"value\":\"so2ControlInfo\"},{\"label\":\"NOx Controls\",\"value\":\"noxControlInfo\"},{\"label\":\"PM Controls\",\"value\":\"pmControlInfo\"},{\"label\":\"Hg Controls\",\"value\":\"hgControlInfo\"},{\"label\":\"Program Code\",\"value\":\"programCodeInfo\"}]\n",
      "Status code: 200\n",
      "Field Mappings: [{\"label\":\"State\",\"value\":\"stateCode\"},{\"label\":\"Facility Name\",\"value\":\"facilityName\"},{\"label\":\"Facility ID\",\"value\":\"facilityId\"},{\"label\":\"Unit ID\",\"value\":\"unitId\"},{\"label\":\"Associated Stacks\",\"value\":\"associatedStacks\"},{\"label\":\"Date\",\"value\":\"date\"},{\"label\":\"Hour\",\"value\":\"hour\"},{\"label\":\"Operating Time\",\"value\":\"opTime\"},{\"label\":\"Gross Load (MW)\",\"value\":\"grossLoad\"},{\"label\":\"Steam Load (1000 lb/hr)\",\"value\":\"steamLoad\"},{\"label\":\"SO2 Mass (lbs)\",\"value\":\"so2Mass\"},{\"label\":\"SO2 Mass Measure Indicator\",\"value\":\"so2MassMeasureFlg\"},{\"label\":\"SO2 Rate (lbs/mmBtu)\",\"value\":\"so2Rate\"},{\"label\":\"SO2 Rate Measure Indicator\",\"value\":\"so2RateMeasureFlg\"},{\"label\":\"CO2 Mass (short tons)\",\"value\":\"co2Mass\"},{\"label\":\"CO2 Mass Measure Indicator\",\"value\":\"co2MassMeasureFlg\"},{\"label\":\"CO2 Rate (short tons/mmBtu)\",\"value\":\"co2Rate\"},{\"label\":\"CO2 Rate Measure Indicator\",\"value\":\"co2RateMeasureFlg\"},{\"label\":\"NOx Mass (lbs)\",\"value\":\"noxMass\"},{\"label\":\"NOx Mass Measure Indicator\",\"value\":\"noxMassMeasureFlg\"},{\"label\":\"NOx Rate (lbs/mmBtu)\",\"value\":\"noxRate\"},{\"label\":\"NOx Rate Measure Indicator\",\"value\":\"noxRateMeasureFlg\"},{\"label\":\"Heat Input (mmBtu)\",\"value\":\"heatInput\"},{\"label\":\"Heat Input Measure Indicator\",\"value\":\"heatInputMeasureFlg\"},{\"label\":\"Primary Fuel Type\",\"value\":\"primaryFuelInfo\"},{\"label\":\"Secondary Fuel Type\",\"value\":\"secondaryFuelInfo\"},{\"label\":\"Unit Type\",\"value\":\"unitType\"},{\"label\":\"SO2 Controls\",\"value\":\"so2ControlInfo\"},{\"label\":\"NOx Controls\",\"value\":\"noxControlInfo\"},{\"label\":\"PM Controls\",\"value\":\"pmControlInfo\"},{\"label\":\"Hg Controls\",\"value\":\"hgControlInfo\"},{\"label\":\"Program Code\",\"value\":\"programCodeInfo\"}]\n",
      "Status code: 200\n",
      "Field Mappings: [{\"label\":\"State\",\"value\":\"stateCode\"},{\"label\":\"Facility Name\",\"value\":\"facilityName\"},{\"label\":\"Facility ID\",\"value\":\"facilityId\"},{\"label\":\"Unit ID\",\"value\":\"unitId\"},{\"label\":\"Associated Stacks\",\"value\":\"associatedStacks\"},{\"label\":\"Date\",\"value\":\"date\"},{\"label\":\"Hour\",\"value\":\"hour\"},{\"label\":\"Operating Time\",\"value\":\"opTime\"},{\"label\":\"Gross Load (MW)\",\"value\":\"grossLoad\"},{\"label\":\"Steam Load (1000 lb/hr)\",\"value\":\"steamLoad\"},{\"label\":\"SO2 Mass (lbs)\",\"value\":\"so2Mass\"},{\"label\":\"SO2 Mass Measure Indicator\",\"value\":\"so2MassMeasureFlg\"},{\"label\":\"SO2 Rate (lbs/mmBtu)\",\"value\":\"so2Rate\"},{\"label\":\"SO2 Rate Measure Indicator\",\"value\":\"so2RateMeasureFlg\"},{\"label\":\"CO2 Mass (short tons)\",\"value\":\"co2Mass\"},{\"label\":\"CO2 Mass Measure Indicator\",\"value\":\"co2MassMeasureFlg\"},{\"label\":\"CO2 Rate (short tons/mmBtu)\",\"value\":\"co2Rate\"},{\"label\":\"CO2 Rate Measure Indicator\",\"value\":\"co2RateMeasureFlg\"},{\"label\":\"NOx Mass (lbs)\",\"value\":\"noxMass\"},{\"label\":\"NOx Mass Measure Indicator\",\"value\":\"noxMassMeasureFlg\"},{\"label\":\"NOx Rate (lbs/mmBtu)\",\"value\":\"noxRate\"},{\"label\":\"NOx Rate Measure Indicator\",\"value\":\"noxRateMeasureFlg\"},{\"label\":\"Heat Input (mmBtu)\",\"value\":\"heatInput\"},{\"label\":\"Heat Input Measure Indicator\",\"value\":\"heatInputMeasureFlg\"},{\"label\":\"Primary Fuel Type\",\"value\":\"primaryFuelInfo\"},{\"label\":\"Secondary Fuel Type\",\"value\":\"secondaryFuelInfo\"},{\"label\":\"Unit Type\",\"value\":\"unitType\"},{\"label\":\"SO2 Controls\",\"value\":\"so2ControlInfo\"},{\"label\":\"NOx Controls\",\"value\":\"noxControlInfo\"},{\"label\":\"PM Controls\",\"value\":\"pmControlInfo\"},{\"label\":\"Hg Controls\",\"value\":\"hgControlInfo\"},{\"label\":\"Program Code\",\"value\":\"programCodeInfo\"}]\n"
     ]
    }
   ],
   "source": [
    "# Set your API key here\n",
    "API_KEY = 'Vz7nSide5OocT948BbImlJTkCKREvs6mrTBf2AL5'\n",
    "# S3 bucket url base + s3Path (in get request) = the full path to the files\n",
    "####### Streaming services API #######\n",
    "# This is an example of how to use the streaming services API to get hourly emissions data.\n",
    "\n",
    "# Use this API for continuous data streams and avoiding paging through results.\n",
    "\n",
    "# api parameters for the streaming emissions/apportioned/hourly endpoint\n",
    "\n",
    "for k in range(0,22):\n",
    "    main_df = []\n",
    "    if k<10:\n",
    "        k_str = '0'+str(k)\n",
    "    else:\n",
    "        k_str = str(k)\n",
    "    for j in range(1,13):\n",
    "        for i in range(1,32):\n",
    "            if (i<10) & (j<10):\n",
    "                parameters = {\n",
    "                    'api_key': API_KEY,\n",
    "                    'beginDate': '20'+k_str+'-0'+str(j)+'-0'+str(i),\n",
    "                    'endDate': '20'+k_str+'-0'+str(j)+'-0'+str(i),\n",
    "                    'programCodeInfo': 'CSOSG2|CSOSG3',\n",
    "                }\n",
    "            elif (i<10) & (j>=10):\n",
    "                parameters = {\n",
    "                    'api_key': API_KEY,\n",
    "                    'beginDate': '20'+k_str+'-'+str(j)+'-0'+str(i),\n",
    "                    'endDate': '20'+k_str+'-'+str(j)+'-0'+str(i),\n",
    "                    'programCodeInfo': 'CSOSG2|CSOSG3',\n",
    "                }\n",
    "            elif (i>=10) & (j<10):\n",
    "                parameters = {'api_key': API_KEY,\n",
    "                    'beginDate': '20'+k_str+'-0'+str(j)+'-'+str(i),\n",
    "                    'endDate': '20'+k_str+'-0'+str(j)+'-'+str(i),\n",
    "                    'programCodeInfo': 'CSOSG2|CSOSG3',\n",
    "                }\n",
    "            else:\n",
    "                parameters = {'api_key': API_KEY,\n",
    "                    'beginDate': '20'+k_str+'-'+str(j)+'-'+str(i),\n",
    "                    'endDate': '20'+k_str+'-'+str(j)+'-'+str(i),\n",
    "                    'programCodeInfo': 'CSOSG2|CSOSG3',\n",
    "                }\n",
    "    \n",
    "            if (j==2&i>=29)|(j==4&i>=31)|(j==6&i>=31)|(j==9&i>=31)|(j==11&i>=31):\n",
    "                continue\n",
    "            \n",
    "            \n",
    "            date_format = \"%Y-%m-%d\"\n",
    "            beginDate = datetime.strptime(parameters['beginDate'], date_format)\n",
    "            endDate = datetime.strptime(parameters['endDate'], date_format)\n",
    "            if (endDate - beginDate).days > 31:\n",
    "                warnings.warn(\"The request you're making could be too large for the streaming services API and may result in a bad request. Please consider using the bulk data api endpoint instead. An example can be found in the bulk_data_demo.py file.\")\n",
    "            \n",
    "            # making get request using the emissions/apportioned/hourly endpoint\n",
    "            streamingUrl = \"https://api.epa.gov/easey/streaming-services/emissions/apportioned/hourly\"\n",
    "            streamingResponse = requests.get(streamingUrl, params=parameters)\n",
    "            \n",
    "            # printing the response error message if the response is not successful\n",
    "            print(\"Status code: \"+str(streamingResponse.status_code))\n",
    "            if (int(streamingResponse.status_code) > 399):\n",
    "                sys.exit(\"Error message: \"+streamingResponse.json()['error']['message'])\n",
    "            \n",
    "            #print(\"Field Mappings: \"+str(streamingResponse.headers['X-Field-Mappings']))\n",
    "            ## the upper line is for printing the list of columns\n",
    "            # collecting data as a data frame\n",
    "            streamingResponse_df = pd.DataFrame(streamingResponse.json())\n",
    "            df_filtered = streamingResponse_df.loc[streamingResponse_df[\"opTime\"] == 1]\n",
    "            df_filtered = df_filtered.drop([\"associatedStacks\", \"so2Mass\",\"so2MassMeasureFlg\",\"so2Rate\",\"so2RateMeasureFlg\",\\\n",
    "                                           \"co2Mass\",\"co2MassMeasureFlg\",\"co2Rate\",\"co2RateMeasureFlg\",\"noxMass\",\\\n",
    "                                           \"noxMassMeasureFlg\",\"noxRate\",\"noxRateMeasureFlg\",\"heatInputMeasureFlg\",\\\n",
    "                                           \"so2ControlInfo\",\"noxControlInfo\",\"pmControlInfo\",\"hgControlInfo\",\"programCodeInfo\"], axis=1)\n",
    "            main_df.append(df_filtered)\n",
    "    df_result = pd.concat(main_df, ignore_index=True)\n",
    "    ### in case wanted to say the data in excel format, it might get to size of 10-11 meg for each year\n",
    "    ### I don't think all of it can be saved in one excel file\n",
    "    save_path = \"your/preferred/address/year\"+str(k)+\".xlsx\"\n",
    "    df_result.to_excel(save_path, index=False, engine=\"openpyxl\")"
   ]
  },
  {
   "cell_type": "markdown",
   "id": "58010ace-8890-4463-8288-e122668761e8",
   "metadata": {
    "jp-MarkdownHeadingCollapsed": true
   },
   "source": [
    "## what do next?\n",
    "I think one thing that would be good to do ist to add another column of capacity of each generator, and then we would only keep observations with $\\frac{gen}{cap}$ between $85-95\\%$, or we  can also have efficiency dispersion histogram the same as Omer's"
   ]
  },
  {
   "cell_type": "code",
   "execution_count": 47,
   "id": "2b52ab21-9ea1-4de2-a19d-6774522ec569",
   "metadata": {},
   "outputs": [
    {
     "data": {
      "text/plain": [
       "True"
      ]
     },
     "execution_count": 47,
     "metadata": {},
     "output_type": "execute_result"
    }
   ],
   "source": []
  }
 ],
 "metadata": {
  "kernelspec": {
   "display_name": "Python [conda env:base] *",
   "language": "python",
   "name": "conda-base-py"
  },
  "language_info": {
   "codemirror_mode": {
    "name": "ipython",
    "version": 3
   },
   "file_extension": ".py",
   "mimetype": "text/x-python",
   "name": "python",
   "nbconvert_exporter": "python",
   "pygments_lexer": "ipython3",
   "version": "3.12.7"
  }
 },
 "nbformat": 4,
 "nbformat_minor": 5
}
